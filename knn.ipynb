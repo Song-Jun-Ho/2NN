{
  "nbformat": 4,
  "nbformat_minor": 0,
  "metadata": {
    "colab": {
      "name": "hw3_knn.ipynb",
      "provenance": [],
      "collapsed_sections": [],
      "include_colab_link": true
    },
    "kernelspec": {
      "name": "python3",
      "display_name": "Python 3"
    },
    "language_info": {
      "name": "python"
    }
  },
  "cells": [
    {
      "cell_type": "markdown",
      "metadata": {
        "id": "view-in-github",
        "colab_type": "text"
      },
      "source": [
        "<a href=\"https://colab.research.google.com/github/Song-Jun-Ho/2NN/blob/main/knn.ipynb\" target=\"_parent\"><img src=\"https://colab.research.google.com/assets/colab-badge.svg\" alt=\"Open In Colab\"/></a>"
      ]
    },
    {
      "cell_type": "markdown",
      "metadata": {
        "id": "f7MWUDI2IBYW"
      },
      "source": [
        "## Colab Setup"
      ]
    },
    {
      "cell_type": "code",
      "metadata": {
        "colab": {
          "base_uri": "https://localhost:8080/"
        },
        "id": "JsEbh_t58ZJo",
        "outputId": "453a8c1f-20dc-46b7-98c9-dc33e4172c53"
      },
      "source": [
        "from google.colab import drive\n",
        "drive.mount('/content/drive')"
      ],
      "execution_count": null,
      "outputs": [
        {
          "output_type": "stream",
          "name": "stdout",
          "text": [
            "Drive already mounted at /content/drive; to attempt to forcibly remount, call drive.mount(\"/content/drive\", force_remount=True).\n"
          ]
        }
      ]
    },
    {
      "cell_type": "code",
      "metadata": {
        "id": "_GXMM3Js7hII",
        "colab": {
          "base_uri": "https://localhost:8080/"
        },
        "outputId": "f958ddd8-bfd4-4ca7-a7a8-59a1f09137d2"
      },
      "source": [
        "\"\"\"\n",
        "Change directory to where this file is located\n",
        "\"\"\"\n",
        "#%cd 'COPY&PASTE FILE DIRECTORY HERE'\n",
        "%cd /content/drive/MyDrive/HW3/HW3"
      ],
      "execution_count": null,
      "outputs": [
        {
          "output_type": "stream",
          "name": "stdout",
          "text": [
            "/content/drive/MyDrive/HW3/HW3\n"
          ]
        }
      ]
    },
    {
      "cell_type": "markdown",
      "metadata": {
        "id": "rR3VeoqMIFbq"
      },
      "source": [
        "## Import Modules"
      ]
    },
    {
      "cell_type": "code",
      "metadata": {
        "id": "JAC2qQEy7rM8"
      },
      "source": [
        "import numpy as np\n",
        "import matplotlib.pyplot as plt\n",
        "from mnist.data_utils import load_data\n",
        "from numpy.linalg import norm\n",
        "from collections import Counter"
      ],
      "execution_count": null,
      "outputs": []
    },
    {
      "cell_type": "markdown",
      "metadata": {
        "id": "jMw488CqIOhm"
      },
      "source": [
        "## K-Nearest Neighbor Implementation"
      ]
    },
    {
      "cell_type": "code",
      "metadata": {
        "id": "zpsV2Bb3r3s4"
      },
      "source": [
        "class KNN:\n",
        "    \"\"\" k-nearest neighbor classifier class \"\"\"\n",
        "\n",
        "    def train(self, X, y):\n",
        "        \"\"\"\n",
        "        Train the classifier using the given training data (X, y).\n",
        "        Recall that for k-nearest neighbors this is just memorizing the training data.\n",
        "\n",
        "        Do NOT Modify this method.\n",
        "\n",
        "        Inputs\n",
        "        - X: A numpy array of shape (N, D), where N is the number of data points,\n",
        "            D is the dimensionality of each data point.\n",
        "        - y: A numpy array of shape (N,) containing the training labels, where\n",
        "            y[i] is the label for X[i]. With C classes, each y[i] is an integer\n",
        "            from 0 to C-1.\n",
        "        \"\"\"\n",
        "        self.X_train = X\n",
        "        self.y_train = y\n",
        "\n",
        "    def inference(self, X_test, k=1, dist_metric='dot'):\n",
        "        \"\"\"\n",
        "        For each test example in X, this method predicts its label by majority vote\n",
        "        from the k nearest training samples. It returns the predicted labels. \n",
        "\n",
        "        Do NOT Modify this method.\n",
        "\n",
        "        Inputs\n",
        "        - X_test: A numpy array of shape (N, D), where N is the number of test data points,\n",
        "            D is the dimensionality of each data point.\n",
        "        - X_train: A numpy array of shape (M, D), where M is the number of training data points,\n",
        "            D is the dimensionality of each data point.\n",
        "        - k: The number of neighbors to participate in voting.\n",
        "            dist_metric: Determines the distance metric to use. The default is dot-product ('dot'),\n",
        "            but you will need to implement 'l2' for question (b).\n",
        "        Returns\n",
        "        - y_pred: A numpy array of shape (N,) containing predicted labels for the test data X,\n",
        "            where y_pred[i] is the predicted label for the test point X[i].\n",
        "        \"\"\"\n",
        "        dists = self.compute_distance(X_test, dist_metric)\n",
        "        y_pred = self.predict_labels(X_test, dists, k)\n",
        "        return y_pred\n",
        "\n",
        "    def compute_distance(self, X_test, dist_metric='l2'):\n",
        "        \"\"\"\n",
        "        Computes the distance between the training data and test data, \n",
        "        using dot-product similarity or Euclidean (L2) distance as the distance metric.\n",
        "\n",
        "        Inputs\n",
        "        - X_test: A numpy array of shape (N, D), where N is the number of test data points,\n",
        "            D is the dimensionality of each data point.\n",
        "        - X_train: A numpy array of shape (M, D), where M is the number of training data points,\n",
        "            D is the dimensionality of each data point.\n",
        "        - dist_metric: Determines the distance metric to use.\n",
        "        Returns\n",
        "        - dists: A numpy array of shape (N, M) where N is the number of test data points, \n",
        "            and M is the number of traininig data points, containing distances between \n",
        "            each pair of test and train data points based on the given distance metric.\n",
        "        \"\"\"\n",
        "        dists = np.zeros((len(X_test),len(self.X_train)))\n",
        "        \n",
        "        if dist_metric=='dot': \n",
        "            # your code\n",
        "            for i in range(len(X_test)):\n",
        "                for j in range(len(self.X_train)):\n",
        "                    dists[i][j] = -np.sum(X_test[i]*self.X_train[j])\n",
        "\n",
        "        elif dist_metric=='cos':\n",
        "            for i in range(len(X_test)):\n",
        "                for j in range(len(self.X_train)):\n",
        "                    dists[i][j] = -np.sum(X_test[i]*self.X_train[j]) / (norm(X_test[i],2) * norm(self.X_train[j],2))\n",
        "\n",
        "        elif dist_metric=='l2':          \n",
        "            for i in range(len(X_test)):\n",
        "                for j in range(len(self.X_train)):\n",
        "                    dists[i][j] = np.sqrt(np.sum(np.square(X_test[i] - self.X_train[j])))\n",
        "\n",
        "        return dists\n",
        "\n",
        "    def predict_labels(self, X_test, dists, k):\n",
        "        \"\"\"\n",
        "        For the given test image, this method takes a majority vote from k closest points\n",
        "        to predict the class of the test image.\n",
        "\n",
        "        Inputs\n",
        "        - X_test: A numpy array of shape (N, D), where N is the number of test data points,\n",
        "            D is the dimensionality of each data point.\n",
        "        - dists: A numpy array of shape (N, M) where N is the number of test data points, \n",
        "            and M is the number of traininig data points, containing distances between \n",
        "            each pair of test and train data points based on the given distance metric.\n",
        "        - k: The number of neighbors to participate in voting.\n",
        "        Returns\n",
        "        - y_pred: A numpy array of shape (N,) containing predicted labels for the test data X,\n",
        "            where y_pred[i] is the predicted label for the test point X[i].\n",
        "        \"\"\"\n",
        "        # your code\n",
        "        y_pred = np.zeros(len(X_test))\n",
        "        for i in range(len(X_test)):\n",
        "            close_idx = np.argpartition(dists[i], k)[:k]\n",
        "            close_labels = self.y_train[close_idx].reshape(-1)\n",
        "            most_freq_label = Counter(close_labels).most_common()[0][0]\n",
        "            y_pred[i] = most_freq_label\n",
        "\n",
        "        return y_pred\n",
        "\n",
        "    def evaluate(self, y, y_hat):\n",
        "        \"\"\"\n",
        "        Compares the predicted labels to the ground truth y, and prints the\n",
        "        classification accuracy.\n",
        "        \n",
        "        Do NOT Modify this method.\n",
        "\n",
        "        Inputs\n",
        "        - y: A numpy array of shape (N,) containing the ground truth labels, where\n",
        "            N is the number of test examples. With C classes, each y[i] is an integer\n",
        "            from 0 to C-1.\n",
        "        - y_hat: A numpy array of shape (N,) containing the predicted labels, where\n",
        "            N is the number of test examples. With C classes, each y_pred[i] is\n",
        "            an integer from 0 to C-1.\n",
        "        Returns:\n",
        "        - accuracy\n",
        "        \"\"\"\n",
        "        y_hat = np.expand_dims(y_hat, axis=1)\n",
        "        num_correct = np.sum(y_hat == y)\n",
        "        accuracy = float(num_correct) / y.shape[0]\n",
        "        return accuracy"
      ],
      "execution_count": null,
      "outputs": []
    },
    {
      "cell_type": "markdown",
      "metadata": {
        "id": "yvwolO5qHzXl"
      },
      "source": [
        "## Data Loading"
      ]
    },
    {
      "cell_type": "code",
      "metadata": {
        "id": "zR9dOpGX_0iz"
      },
      "source": [
        "def sample_data(X, y, count):\n",
        "    mask = np.random.choice(X.shape[0], count, replace=False)\n",
        "    X_sampled = X[mask]\n",
        "    y_sampled = y[mask]\n",
        "    return X_sampled, y_sampled"
      ],
      "execution_count": null,
      "outputs": []
    },
    {
      "cell_type": "code",
      "metadata": {
        "id": "UOzrdgGSHVXF",
        "colab": {
          "base_uri": "https://localhost:8080/"
        },
        "outputId": "49eac2c6-cb9f-4148-ad68-872198f67403"
      },
      "source": [
        "num_train_data = 1000\n",
        "num_test_data = 200\n",
        "\n",
        "X_train_src, y_train_src, X_test_src, y_test_src = load_data(one_hot_encoding=False) # Training data is flattened when it is loaded\n",
        "X_train, y_train = sample_data(X_train_src, y_train_src, num_train_data)\n",
        "X_test, y_test = sample_data(X_test_src, y_test_src, num_test_data)"
      ],
      "execution_count": null,
      "outputs": [
        {
          "output_type": "stream",
          "name": "stdout",
          "text": [
            "MNIST data loaded:\n",
            "Training data shape: (60000, 784)\n",
            "Training labels shape: (60000, 1)\n",
            "Test data shape: (10000, 784)\n",
            "Test labels shape: (10000, 1)\n"
          ]
        }
      ]
    },
    {
      "cell_type": "markdown",
      "metadata": {
        "id": "lZDHMwziIpja"
      },
      "source": [
        "## Model Training & Evaluation"
      ]
    },
    {
      "cell_type": "code",
      "metadata": {
        "id": "nfq-3_r4IsHB"
      },
      "source": [
        "model = KNN()\n",
        "model.train(X_train, y_train)"
      ],
      "execution_count": null,
      "outputs": []
    },
    {
      "cell_type": "code",
      "source": [
        "a = np.array([1,1,1,2,2,3])\n",
        "Counter(a).most_common()[0][0]"
      ],
      "metadata": {
        "colab": {
          "base_uri": "https://localhost:8080/"
        },
        "id": "CMGlA3FYvvX2",
        "outputId": "900c9e65-4c2f-494b-994c-6f068d941039"
      },
      "execution_count": null,
      "outputs": [
        {
          "output_type": "execute_result",
          "data": {
            "text/plain": [
              "1"
            ]
          },
          "metadata": {},
          "execution_count": 34
        }
      ]
    },
    {
      "cell_type": "code",
      "metadata": {
        "id": "fPmKakDuuc8b",
        "colab": {
          "base_uri": "https://localhost:8080/"
        },
        "outputId": "ed12f389-62eb-416d-ffd2-a2db7d06a485"
      },
      "source": [
        "\"\"\"\n",
        "Model usage for test.\n",
        "\"\"\"\n",
        "K = 15\n",
        "y_pred = model.inference(X_test, k=K, dist_metric='l2')\n",
        "acc = model.evaluate(y_test, y_pred)\n",
        "print(\"Accuarcy:\", acc)"
      ],
      "execution_count": null,
      "outputs": [
        {
          "output_type": "stream",
          "name": "stdout",
          "text": [
            "Accuarcy: 0.84\n"
          ]
        }
      ]
    },
    {
      "cell_type": "markdown",
      "metadata": {
        "id": "_-IRMbqqRtmh"
      },
      "source": [
        "## Experiments"
      ]
    },
    {
      "cell_type": "code",
      "metadata": {
        "id": "r0IsD2pwgFxM"
      },
      "source": [
        "# Modify the number of k's and metrics to try as you want\n",
        "num_ks = 50\n",
        "metrics = ['dot', 'cos', 'l2']"
      ],
      "execution_count": null,
      "outputs": []
    },
    {
      "cell_type": "code",
      "metadata": {
        "id": "68AnUY2wSkMX",
        "colab": {
          "base_uri": "https://localhost:8080/"
        },
        "outputId": "34d6e4ce-69c2-4803-8853-69fc58e2320a"
      },
      "source": [
        "# Run experiments\n",
        "print_k_interval = 5\n",
        "result = dict(zip(metrics, [[] for _ in range(len(metrics))]))\n",
        "for metric in metrics:\n",
        "    print(\"running KNN with {} distance metric\".format(metric))\n",
        "    for k in range(1, num_ks+1):\n",
        "        if k % print_k_interval==0:\n",
        "            print(\"    processing... k={:3d}\".format(k))\n",
        "        y_pred = model.inference(X_test, k=k, dist_metric=metric)\n",
        "        acc = model.evaluate(y_test, y_pred)\n",
        "        result[metric].append(acc)\n",
        "    print()"
      ],
      "execution_count": null,
      "outputs": [
        {
          "output_type": "stream",
          "name": "stdout",
          "text": [
            "running KNN with dot distance metric\n",
            "    processing... k=  5\n",
            "    processing... k= 10\n",
            "    processing... k= 15\n",
            "    processing... k= 20\n",
            "    processing... k= 25\n",
            "    processing... k= 30\n",
            "    processing... k= 35\n",
            "    processing... k= 40\n",
            "    processing... k= 45\n",
            "    processing... k= 50\n",
            "\n",
            "running KNN with cos distance metric\n",
            "    processing... k=  5\n",
            "    processing... k= 10\n",
            "    processing... k= 15\n",
            "    processing... k= 20\n",
            "    processing... k= 25\n",
            "    processing... k= 30\n",
            "    processing... k= 35\n",
            "    processing... k= 40\n",
            "    processing... k= 45\n",
            "    processing... k= 50\n",
            "\n",
            "running KNN with l2 distance metric\n",
            "    processing... k=  5\n",
            "    processing... k= 10\n",
            "    processing... k= 15\n",
            "    processing... k= 20\n",
            "    processing... k= 25\n",
            "    processing... k= 30\n",
            "    processing... k= 35\n",
            "    processing... k= 40\n",
            "    processing... k= 45\n",
            "    processing... k= 50\n",
            "\n"
          ]
        }
      ]
    },
    {
      "cell_type": "code",
      "metadata": {
        "id": "Q47KrG6ch6MH",
        "colab": {
          "base_uri": "https://localhost:8080/",
          "height": 350
        },
        "outputId": "84d3cba8-7df7-4767-aaa9-49eb4a5a4483"
      },
      "source": [
        "# Visualize the result\n",
        "fig = plt.figure(figsize=(10,5))\n",
        "ax = fig.add_subplot(1,1,1)\n",
        "\n",
        "x_axis = np.arange(1, num_ks+1, 1)\n",
        "for i, metric in enumerate(metrics):\n",
        "    ax.scatter(x_axis, result[metric], label = metric)\n",
        "\n",
        "ax.set(title=\"K-Nearest Neighbor Accuracies on different Ks\")\n",
        "ax.set(xlabel='K', ylabel='Accuracy')\n",
        "ax.set(xticks=np.arange(0, num_ks+1,5), yticks=np.arange(0.5,1.0,0.05))\n",
        "ax.legend()\n",
        "plt.show()"
      ],
      "execution_count": null,
      "outputs": [
        {
          "output_type": "display_data",
          "data": {
            "text/plain": [
              "<Figure size 720x360 with 1 Axes>"
            ],
            "image/png": "[encoded data removed]"
          },
          "metadata": {
            "needs_background": "light"
          }
        }
      ]
    },
    {
      "cell_type": "markdown",
      "metadata": {
        "id": "zsm-h6GXW0dc"
      },
      "source": [
        "Using cosine similarity as a distance metric seems to fit well to this dataset. The test accuracy with cosine similarity is approximately 85 ~ 92 %. Also accuracy tends to increase when value k becomes smaller. This means that the test data is well clustered, and also training data points are good representations for each cluster. I can make an inference that the distance between clusters are far enough, whereas distance within cluster is close."
      ]
    },
    {
      "cell_type": "code",
      "source": [
        ""
      ],
      "metadata": {
        "id": "mwG_SwClA4hn"
      },
      "execution_count": null,
      "outputs": []
    }
  ]
}